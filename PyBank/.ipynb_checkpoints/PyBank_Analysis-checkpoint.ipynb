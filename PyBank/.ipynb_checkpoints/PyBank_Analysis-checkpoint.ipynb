{
 "cells": [
  {
   "cell_type": "code",
   "execution_count": 1,
   "id": "99893640-4ae3-4a5a-9c65-11a16ba28a87",
   "metadata": {},
   "outputs": [
    {
     "name": "stdout",
     "output_type": "stream",
     "text": [
      "['Date', 'Profit/Losses']\n",
      "[['Jan-10', '1088983'], ['Feb-10', '-354534'], ['Mar-10', '276622'], ['Apr-10', '-728133'], ['May-10', '852993']]\n"
     ]
    }
   ],
   "source": [
    "import csv\n",
    "import os\n",
    "\n",
    "# Set the path to the CSV file in the Resources folder\n",
    "csv_file_path = r'D:\\python-challenge\\PyBank\\Resource\\budget_data.csv'  # Use raw string to handle backslashes\n",
    "\n",
    "# Open and read the csv\n",
    "with open(csv_file_path, newline='') as financial_data:\n",
    "    reader = csv.reader(financial_data)\n",
    "    \n",
    "    # Skip the header row\n",
    "    header = next(reader)\n",
    "    \n",
    "    # Read all rows of data and print them\n",
    "    data = list(reader)\n",
    "    print(header)  # This will print the header\n",
    "    print(data[:5])  # This will print the first 5 rows of data for you to see\n"
   ]
  },
  {
   "cell_type": "code",
   "execution_count": 15,
   "id": "4b298a8b-1523-4cf6-91c0-d407c82c446c",
   "metadata": {},
   "outputs": [],
   "source": [
    "# Define the output file path\n",
    "file_to_output = os.path.join(\"analysis\", \"budget_analysis.txt\")  # This is where the results will be saved\n",
    "\n",
    "# Check if the \"analysis\" folder exists, and if not, create it\n",
    "if not os.path.exists(\"analysis\"):\n",
    "    os.makedirs(\"analysis\")\n"
   ]
  },
  {
   "cell_type": "code",
   "execution_count": 3,
   "id": "7029a91e-38f3-402c-9678-05d043ade099",
   "metadata": {},
   "outputs": [
    {
     "name": "stdout",
     "output_type": "stream",
     "text": [
      "Total Months: 86\n",
      "Total: $22564198\n"
     ]
    }
   ],
   "source": [
    "# Define variables to track the financial data\n",
    "total_months = 0\n",
    "total_net = 0\n",
    "\n",
    "# Process each row of data\n",
    "for row in data:\n",
    "    # Increase total_months count\n",
    "    total_months += 1\n",
    "    \n",
    "    # Add current month's profit/loss to total_net\n",
    "    current_profit_loss = int(row[1])  # Convert the value to an integer\n",
    "    total_net += current_profit_loss\n",
    "\n",
    "# Print results\n",
    "print(f\"Total Months: {total_months}\")\n",
    "print(f\"Total: ${total_net}\")\n"
   ]
  },
  {
   "cell_type": "code",
   "execution_count": 5,
   "id": "4c50ef86-b298-4ce5-9117-358509ec63a4",
   "metadata": {},
   "outputs": [
    {
     "name": "stdout",
     "output_type": "stream",
     "text": [
      "Average Change: $-8311.11\n"
     ]
    }
   ],
   "source": [
    "# Define variables for tracking the changes\n",
    "previous_profit_loss = 0\n",
    "net_change = 0\n",
    "changes = []\n",
    "\n",
    "# Process each row of data\n",
    "for i, row in enumerate(data):\n",
    "    current_profit_loss = int(row[1])  # Convert current month's profit/loss to integer\n",
    "    \n",
    "    # Skip the first row since there is no previous month's data to calculate change\n",
    "    if i > 0:\n",
    "        net_change = current_profit_loss - previous_profit_loss  # Calculate change from previous month\n",
    "        changes.append(net_change)  # Store the change in the list\n",
    "\n",
    "    # Update previous_profit_loss to the current value for the next iteration\n",
    "    previous_profit_loss = current_profit_loss\n",
    "\n",
    "# Calculate the average change\n",
    "average_change = sum(changes) / len(changes) if changes else 0\n",
    "\n",
    "# Print results\n",
    "print(f\"Average Change: ${average_change:.2f}\")\n"
   ]
  },
  {
   "cell_type": "code",
   "execution_count": 7,
   "id": "8119f6dd-cd73-49b9-b815-357457b996e7",
   "metadata": {},
   "outputs": [
    {
     "name": "stdout",
     "output_type": "stream",
     "text": [
      "Greatest Increase in Profits: Aug-16 ($1862002)\n",
      "Greatest Decrease in Profits: Feb-14 ($-1825558)\n"
     ]
    }
   ],
   "source": [
    "# Variables to track the greatest increase and decrease in profits\n",
    "greatest_increase = [\"\", 0]  # Format: [\"Month\", Amount]\n",
    "greatest_decrease = [\"\", 0]  # Format: [\"Month\", Amount]\n",
    "\n",
    "# Loop through the changes to find the greatest increase and decrease\n",
    "for i, change in enumerate(changes):\n",
    "    if change > greatest_increase[1]:\n",
    "        greatest_increase[0] = data[i + 1][0]  # Month corresponding to the greatest increase\n",
    "        greatest_increase[1] = change  # Update the amount of greatest increase\n",
    "    \n",
    "    if change < greatest_decrease[1]:\n",
    "        greatest_decrease[0] = data[i + 1][0]  # Month corresponding to the greatest decrease\n",
    "        greatest_decrease[1] = change  # Update the amount of greatest decrease\n",
    "\n",
    "# Print the results for greatest increase and decrease\n",
    "print(f\"Greatest Increase in Profits: {greatest_increase[0]} (${greatest_increase[1]})\")\n",
    "print(f\"Greatest Decrease in Profits: {greatest_decrease[0]} (${greatest_decrease[1]})\")\n"
   ]
  },
  {
   "cell_type": "code",
   "execution_count": 19,
   "id": "48a15cbc-4f9f-49ff-9041-79037d6f4592",
   "metadata": {},
   "outputs": [
    {
     "name": "stdout",
     "output_type": "stream",
     "text": [
      "Financial Analysis\n",
      "----------------------------\n",
      "Total Months: 86\n",
      "Total: $22564198\n",
      "Average Change: $-8311.11\n",
      "Greatest Increase in Profits: Aug-16 ($1862002)\n",
      "Greatest Decrease in Profits: Feb-14 ($-1825558)\n"
     ]
    }
   ],
   "source": [
    "# Define the output file path\n",
    "file_to_output = os.path.join(\"analysis\", \"budget_analysis.txt\")  # Path to save results\n",
    "\n",
    "# Check if \"analysis\" folder exists, create it if not\n",
    "if not os.path.exists(\"analysis\"):\n",
    "    os.makedirs(\"analysis\")\n",
    "\n",
    "# Print results to the terminal\n",
    "print(f\"Financial Analysis\")\n",
    "print(f\"----------------------------\")\n",
    "print(f\"Total Months: {total_months}\")\n",
    "print(f\"Total: ${total_net}\")\n",
    "print(f\"Average Change: ${average_change:.2f}\")\n",
    "print(f\"Greatest Increase in Profits: {greatest_increase[0]} (${greatest_increase[1]})\")\n",
    "print(f\"Greatest Decrease in Profits: {greatest_decrease[0]} (${greatest_decrease[1]})\")\n",
    "\n",
    "# Export results to a text file\n",
    "with open(file_to_output, \"w\") as txtfile:\n",
    "    txtfile.write(\"Financial Analysis\\n\")\n",
    "    txtfile.write(\"----------------------------\\n\")\n",
    "    txtfile.write(f\"Total Months: {total_months}\\n\")\n",
    "    txtfile.write(f\"Total: ${total_net}\\n\")\n",
    "    txtfile.write(f\"Average Change: ${average_change:.2f}\\n\")\n",
    "    txtfile.write(f\"Greatest Increase in Profits: {greatest_increase[0]} (${greatest_increase[1]})\\n\")\n",
    "    txtfile.write(f\"Greatest Decrease in Profits: {greatest_decrease[0]} (${greatest_decrease[1]})\\n\")\n"
   ]
  }
 ],
 "metadata": {
  "kernelspec": {
   "display_name": "Python [conda env:base] *",
   "language": "python",
   "name": "conda-base-py"
  },
  "language_info": {
   "codemirror_mode": {
    "name": "ipython",
    "version": 3
   },
   "file_extension": ".py",
   "mimetype": "text/x-python",
   "name": "python",
   "nbconvert_exporter": "python",
   "pygments_lexer": "ipython3",
   "version": "3.12.7"
  }
 },
 "nbformat": 4,
 "nbformat_minor": 5
}
