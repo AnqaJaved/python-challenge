{
 "cells": [
  {
   "cell_type": "code",
   "execution_count": 9,
   "id": "d9343d2c-2e13-48b3-a675-b36dd61c6ddc",
   "metadata": {},
   "outputs": [
    {
     "name": "stdout",
     "output_type": "stream",
     "text": [
      "['Ballot ID', 'County', 'Candidate']\n",
      "[['1323913', 'Jefferson', 'Charles Casper Stockham'], ['1005842', 'Jefferson', 'Charles Casper Stockham'], ['1880345', 'Jefferson', 'Charles Casper Stockham'], ['1600337', 'Jefferson', 'Charles Casper Stockham'], ['1835994', 'Jefferson', 'Charles Casper Stockham']]\n"
     ]
    }
   ],
   "source": [
    "# Step 1: Import necessary libraries\n",
    "import csv  # Make sure to import csv\n",
    "import os\n",
    "\n",
    "# Step 2: Set the path to the election data CSV file\n",
    "csv_file_path = r'D:\\python-challenge\\PyPoll\\Resources\\election_data.csv'  # Full path to the CSV file\n",
    "\n",
    "# Step 3: Open and read the CSV file\n",
    "with open(csv_file_path, newline='') as election_data:\n",
    "    reader = csv.reader(election_data)\n",
    "    \n",
    "    # Step 4: Skip the header row since we don't need it in the analysis\n",
    "    header = next(reader)\n",
    "    \n",
    "    # Step 5: Read all rows of data into a list (so I can process it later)\n",
    "    data = list(reader)\n",
    "    \n",
    "    # Step 6: Print the header and the first 5 rows to see how the data looks\n",
    "    print(header)  # This will show the column names like 'Voter ID', 'County', 'Candidate'\n",
    "    print(data[:5])  # This will show the first 5 rows of data to make sure the data looks correct\n"
   ]
  },
  {
   "cell_type": "code",
   "execution_count": 11,
   "id": "c188cc55-57f8-4017-a822-24ec7c634ac5",
   "metadata": {},
   "outputs": [
    {
     "name": "stdout",
     "output_type": "stream",
     "text": [
      "Total Votes: 369711\n",
      "Charles Casper Stockham: 23.049% (85213)\n",
      "Diana DeGette: 73.812% (272892)\n",
      "Raymon Anthony Doane: 3.139% (11606)\n"
     ]
    }
   ],
   "source": [
    "# Step 1: Initialize variables\n",
    "total_votes = 0  # Variable to store total votes\n",
    "candidate_votes = {}  # Dictionary to store votes for each candidate\n",
    "\n",
    "# Step 2: Loop through the data and count votes\n",
    "for row in data:\n",
    "    total_votes += 1  # Increment the total vote count for each row\n",
    "    \n",
    "    candidate = row[2]  # Candidate is in the third column (index 2)\n",
    "    \n",
    "    # If the candidate is already in the dictionary, increment their vote count\n",
    "    if candidate in candidate_votes:\n",
    "        candidate_votes[candidate] += 1\n",
    "    else:\n",
    "        # If it's a new candidate, add them to the dictionary with an initial vote count of 1\n",
    "        candidate_votes[candidate] = 1\n",
    "\n",
    "# Step 3: Print the total votes\n",
    "print(f\"Total Votes: {total_votes}\")\n",
    "\n",
    "# Step 4: Print the list of candidates and their vote percentage\n",
    "for candidate, votes in candidate_votes.items():\n",
    "    percentage = (votes / total_votes) * 100  # Calculate the percentage of votes\n",
    "    print(f\"{candidate}: {percentage:.3f}% ({votes})\")\n"
   ]
  },
  {
   "cell_type": "code",
   "execution_count": 13,
   "id": "46899921-aaa3-44e4-bff5-b2dd1b839d73",
   "metadata": {},
   "outputs": [
    {
     "name": "stdout",
     "output_type": "stream",
     "text": [
      "Winner: Diana DeGette\n"
     ]
    }
   ],
   "source": [
    "# Step 1: Find the winner by looking for the candidate with the maximum votes\n",
    "winner = max(candidate_votes, key=candidate_votes.get)\n",
    "\n",
    "# Step 2: Print the winner\n",
    "print(f\"Winner: {winner}\")\n"
   ]
  },
  {
   "cell_type": "code",
   "execution_count": 15,
   "id": "439d569b-fa0c-4d7b-8aeb-28aa142a8852",
   "metadata": {},
   "outputs": [
    {
     "name": "stdout",
     "output_type": "stream",
     "text": [
      "Election Results\n",
      "-------------------------\n",
      "Total Votes: 369711\n",
      "Charles Casper Stockham: 23.049% (85213)\n",
      "Diana DeGette: 73.812% (272892)\n",
      "Raymon Anthony Doane: 3.139% (11606)\n",
      "-------------------------\n",
      "Winner: Diana DeGette\n"
     ]
    }
   ],
   "source": [
    "# Step 1: Set up the output file path\n",
    "file_to_output = os.path.join(\"analysis\", \"election_analysis.txt\")\n",
    "\n",
    "# Make sure the \"analysis\" folder exists, create it if not\n",
    "if not os.path.exists(\"analysis\"):\n",
    "    os.makedirs(\"analysis\")\n",
    "\n",
    "# Step 2: Print the final results to the terminal\n",
    "print(f\"Election Results\")\n",
    "print(f\"-------------------------\")\n",
    "print(f\"Total Votes: {total_votes}\")\n",
    "for candidate, votes in candidate_votes.items():\n",
    "    percentage = (votes / total_votes) * 100\n",
    "    print(f\"{candidate}: {percentage:.3f}% ({votes})\")\n",
    "print(f\"-------------------------\")\n",
    "print(f\"Winner: {winner}\")\n",
    "\n",
    "# Step 3: Save the results to a text file\n",
    "with open(file_to_output, \"w\") as txtfile:\n",
    "    txtfile.write(f\"Election Results\\n\")\n",
    "    txtfile.write(f\"-------------------------\\n\")\n",
    "    txtfile.write(f\"Total Votes: {total_votes}\\n\")\n",
    "    for candidate, votes in candidate_votes.items():\n",
    "        percentage = (votes / total_votes) * 100\n",
    "        txtfile.write(f\"{candidate}: {percentage:.3f}% ({votes})\\n\")\n",
    "    txtfile.write(f\"-------------------------\\n\")\n",
    "    txtfile.write(f\"Winner: {winner}\\n\")\n"
   ]
  }
 ],
 "metadata": {
  "kernelspec": {
   "display_name": "Python [conda env:base] *",
   "language": "python",
   "name": "conda-base-py"
  },
  "language_info": {
   "codemirror_mode": {
    "name": "ipython",
    "version": 3
   },
   "file_extension": ".py",
   "mimetype": "text/x-python",
   "name": "python",
   "nbconvert_exporter": "python",
   "pygments_lexer": "ipython3",
   "version": "3.12.7"
  }
 },
 "nbformat": 4,
 "nbformat_minor": 5
}
